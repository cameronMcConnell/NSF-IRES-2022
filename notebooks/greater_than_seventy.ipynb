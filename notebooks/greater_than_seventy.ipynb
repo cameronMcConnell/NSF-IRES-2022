{
 "cells": [
  {
   "cell_type": "code",
   "execution_count": 1,
   "id": "d3426231",
   "metadata": {},
   "outputs": [],
   "source": [
    "import pandas as pd\n",
    "import numpy as np\n",
    "import matplotlib.pyplot as plt\n",
    "from sklearn.cluster import k_means\n",
    "import pickle"
   ]
  },
  {
   "cell_type": "code",
   "execution_count": 2,
   "id": "bb27d03d",
   "metadata": {},
   "outputs": [],
   "source": [
    "name_list = ['run_c1_t1','run_c2_t1','run_c3_t1','run_c4_t1','run_c1_t2','run_c2_t2','run_c3_t2','run_c4_t2',\n",
    "             'skip_c1_t1', 'skip_c2_t1','skip_c3_t1','skip_c1_t2','skip_c2_t2','skip_c3_t2','gallop_c1_t1','gallop_c2_t1',\n",
    "             'gallop_c3_t1','gallop_c3_t1','gallop_c4_t1','gallop_c1_t2','gallop_c2_t2','gallop_c3_t2','gallop_c4_t2',\n",
    "             'slide_c1_t1','slide_c2_t1','slide_c3_t1','slide_c4_t1','slide_c1_t2','slide_c2_t2','slide_c3_t2','slide_c4_t2',\n",
    "             'hop_c1_t1','hop_c2_t1','hop_c3_t1','hop_c4_t1','hop_c5_t1','hop_c1_t2','hop_c2_t2','hop_c3_t2','hop_c4_t2', \n",
    "             'hop_c5_t2','hj_c1_t1','hj_c2_t1','hj_c3_t1','hj_c4_t1','hj_c1_t2','hj_c2_t2','hj_c3_t2','hj_c4_t2','vj_c1_t1',\n",
    "             'vj_c2_t1','vj_c3_t1','vj_c4_t1','vj_c5_t1','vj_c6_t1','vj_c1_t2','vj_c2_t2','vj_c3_t2','vj_c4_t2','vj_c5_t2', \n",
    "             'vj_c6_t2','catch_c1_t1','catch_c2_t1','catch_c3_t1','catch_c1_t2','catch_c2_t2','catch_c3_t2','throw_c1_t1', \n",
    "             'throw_c2_t1','throw_c3_t1','throw_c4_t1','throw_c1_t2','throw_c2_t2','throw_c3_t2','throw_c4_t2','roll_c1_t1',\n",
    "             'roll_c2_t1','roll_c3_t1','roll_c4_t1','roll_c1_t2','roll_c2_t2','roll_c3_t2','roll_c4_t2','kick_c1_t1', \n",
    "             'kick_c2_t1','kick_c3_t1','kick_c4_t1','kick_c1_t2','kick_c2_t2','kick_c3_t2','kick_c4_t2','2hs_c1_t1', \n",
    "             '2hs_c2_t1','2hs_c3_t1','2hs_c4_t1','2hs_c5_t1','2hs_c1_t2','2hs_c2_t2','2hs_c3_t2','2hs_c4_t2','2hs_c5_t2', \n",
    "             '1hs_c1_t1','1hs_c2_t1','1hs_c3_t1','1hs_c4_t1','1hs_c1_t2','1hs_c2_t2','1hs_c3_t2','1hs_c4_t2','bounce_c1_t1',\n",
    "             'bounce_c2_t1','bounce_c3_t1','bounce_c1_t2','bounce_c2_t2','bounce_c3_t2']"
   ]
  },
  {
   "cell_type": "code",
   "execution_count": 3,
   "id": "4e5ebf81",
   "metadata": {},
   "outputs": [],
   "source": [
    "entire_matrix = pd.read_pickle('entire_matrix.pickle')"
   ]
  },
  {
   "cell_type": "code",
   "execution_count": 4,
   "id": "bf002ad3",
   "metadata": {},
   "outputs": [],
   "source": [
    "entire_matrix = entire_matrix.mask(entire_matrix < 0.7).to_csv('greater_than_seventy\\entire_gt7.csv')"
   ]
  },
  {
   "cell_type": "code",
   "execution_count": 5,
   "id": "b8cd2017",
   "metadata": {},
   "outputs": [],
   "source": [
    "male_matrix = pd.read_pickle('male_matrix.pickle')"
   ]
  },
  {
   "cell_type": "code",
   "execution_count": 6,
   "id": "c8595e19",
   "metadata": {},
   "outputs": [],
   "source": [
    "male_matrix = male_matrix.mask(male_matrix < 0.7).to_csv('greater_than_seventy\\male_gt7.csv')"
   ]
  },
  {
   "cell_type": "code",
   "execution_count": 7,
   "id": "a7da8c42",
   "metadata": {},
   "outputs": [
    {
     "data": {
      "text/html": [
       "<div>\n",
       "<style scoped>\n",
       "    .dataframe tbody tr th:only-of-type {\n",
       "        vertical-align: middle;\n",
       "    }\n",
       "\n",
       "    .dataframe tbody tr th {\n",
       "        vertical-align: top;\n",
       "    }\n",
       "\n",
       "    .dataframe thead th {\n",
       "        text-align: right;\n",
       "    }\n",
       "</style>\n",
       "<table border=\"1\" class=\"dataframe\">\n",
       "  <thead>\n",
       "    <tr style=\"text-align: right;\">\n",
       "      <th></th>\n",
       "      <th>run_c1_t1</th>\n",
       "      <th>run_c2_t1</th>\n",
       "      <th>run_c3_t1</th>\n",
       "      <th>run_c4_t1</th>\n",
       "      <th>run_c1_t2</th>\n",
       "      <th>run_c2_t2</th>\n",
       "      <th>run_c3_t2</th>\n",
       "      <th>run_c4_t2</th>\n",
       "      <th>skip_c1_t1</th>\n",
       "      <th>skip_c2_t1</th>\n",
       "      <th>...</th>\n",
       "      <th>1hs_c1_t2</th>\n",
       "      <th>1hs_c2_t2</th>\n",
       "      <th>1hs_c3_t2</th>\n",
       "      <th>1hs_c4_t2</th>\n",
       "      <th>bounce_c1_t1</th>\n",
       "      <th>bounce_c2_t1</th>\n",
       "      <th>bounce_c3_t1</th>\n",
       "      <th>bounce_c1_t2</th>\n",
       "      <th>bounce_c2_t2</th>\n",
       "      <th>bounce_c3_t2</th>\n",
       "    </tr>\n",
       "  </thead>\n",
       "  <tbody>\n",
       "    <tr>\n",
       "      <th>run_c1_t1</th>\n",
       "      <td>1.000000</td>\n",
       "      <td>0.433636</td>\n",
       "      <td>0.226471</td>\n",
       "      <td>0.375544</td>\n",
       "      <td>0.815704</td>\n",
       "      <td>0.403842</td>\n",
       "      <td>0.248199</td>\n",
       "      <td>0.389420</td>\n",
       "      <td>0.159942</td>\n",
       "      <td>0.121107</td>\n",
       "      <td>...</td>\n",
       "      <td>0.041048</td>\n",
       "      <td>0.082967</td>\n",
       "      <td>0.044732</td>\n",
       "      <td>0.063757</td>\n",
       "      <td>0.121151</td>\n",
       "      <td>0.086058</td>\n",
       "      <td>0.077640</td>\n",
       "      <td>0.104671</td>\n",
       "      <td>0.092869</td>\n",
       "      <td>0.089568</td>\n",
       "    </tr>\n",
       "    <tr>\n",
       "      <th>run_c2_t1</th>\n",
       "      <td>0.433636</td>\n",
       "      <td>1.000000</td>\n",
       "      <td>0.344382</td>\n",
       "      <td>0.540321</td>\n",
       "      <td>0.409466</td>\n",
       "      <td>0.921656</td>\n",
       "      <td>0.370568</td>\n",
       "      <td>0.554566</td>\n",
       "      <td>0.227900</td>\n",
       "      <td>0.066740</td>\n",
       "      <td>...</td>\n",
       "      <td>0.050599</td>\n",
       "      <td>0.056367</td>\n",
       "      <td>0.026181</td>\n",
       "      <td>0.068192</td>\n",
       "      <td>0.232079</td>\n",
       "      <td>0.111755</td>\n",
       "      <td>0.146241</td>\n",
       "      <td>0.166676</td>\n",
       "      <td>0.113446</td>\n",
       "      <td>0.145829</td>\n",
       "    </tr>\n",
       "    <tr>\n",
       "      <th>run_c3_t1</th>\n",
       "      <td>0.226471</td>\n",
       "      <td>0.344382</td>\n",
       "      <td>1.000000</td>\n",
       "      <td>0.327448</td>\n",
       "      <td>0.215765</td>\n",
       "      <td>0.344382</td>\n",
       "      <td>0.913985</td>\n",
       "      <td>0.320239</td>\n",
       "      <td>0.118492</td>\n",
       "      <td>0.033320</td>\n",
       "      <td>...</td>\n",
       "      <td>0.141285</td>\n",
       "      <td>0.133505</td>\n",
       "      <td>0.106737</td>\n",
       "      <td>0.119899</td>\n",
       "      <td>0.125287</td>\n",
       "      <td>0.086711</td>\n",
       "      <td>0.126196</td>\n",
       "      <td>0.065683</td>\n",
       "      <td>0.130539</td>\n",
       "      <td>0.079336</td>\n",
       "    </tr>\n",
       "    <tr>\n",
       "      <th>run_c4_t1</th>\n",
       "      <td>0.375544</td>\n",
       "      <td>0.540321</td>\n",
       "      <td>0.327448</td>\n",
       "      <td>1.000000</td>\n",
       "      <td>0.402583</td>\n",
       "      <td>0.504489</td>\n",
       "      <td>0.330729</td>\n",
       "      <td>0.887412</td>\n",
       "      <td>0.150016</td>\n",
       "      <td>0.048687</td>\n",
       "      <td>...</td>\n",
       "      <td>0.009163</td>\n",
       "      <td>0.050453</td>\n",
       "      <td>-0.007863</td>\n",
       "      <td>0.013170</td>\n",
       "      <td>0.150540</td>\n",
       "      <td>0.102020</td>\n",
       "      <td>0.090472</td>\n",
       "      <td>0.069969</td>\n",
       "      <td>0.084492</td>\n",
       "      <td>0.104883</td>\n",
       "    </tr>\n",
       "    <tr>\n",
       "      <th>run_c1_t2</th>\n",
       "      <td>0.815704</td>\n",
       "      <td>0.409466</td>\n",
       "      <td>0.215765</td>\n",
       "      <td>0.402583</td>\n",
       "      <td>1.000000</td>\n",
       "      <td>0.409466</td>\n",
       "      <td>0.237243</td>\n",
       "      <td>0.427462</td>\n",
       "      <td>0.193653</td>\n",
       "      <td>0.125109</td>\n",
       "      <td>...</td>\n",
       "      <td>0.032846</td>\n",
       "      <td>0.081907</td>\n",
       "      <td>0.039961</td>\n",
       "      <td>0.062942</td>\n",
       "      <td>0.127100</td>\n",
       "      <td>0.075484</td>\n",
       "      <td>0.084685</td>\n",
       "      <td>0.064657</td>\n",
       "      <td>0.086507</td>\n",
       "      <td>0.065808</td>\n",
       "    </tr>\n",
       "    <tr>\n",
       "      <th>...</th>\n",
       "      <td>...</td>\n",
       "      <td>...</td>\n",
       "      <td>...</td>\n",
       "      <td>...</td>\n",
       "      <td>...</td>\n",
       "      <td>...</td>\n",
       "      <td>...</td>\n",
       "      <td>...</td>\n",
       "      <td>...</td>\n",
       "      <td>...</td>\n",
       "      <td>...</td>\n",
       "      <td>...</td>\n",
       "      <td>...</td>\n",
       "      <td>...</td>\n",
       "      <td>...</td>\n",
       "      <td>...</td>\n",
       "      <td>...</td>\n",
       "      <td>...</td>\n",
       "      <td>...</td>\n",
       "      <td>...</td>\n",
       "      <td>...</td>\n",
       "    </tr>\n",
       "    <tr>\n",
       "      <th>bounce_c2_t1</th>\n",
       "      <td>0.086058</td>\n",
       "      <td>0.111755</td>\n",
       "      <td>0.086711</td>\n",
       "      <td>0.102020</td>\n",
       "      <td>0.075484</td>\n",
       "      <td>0.122571</td>\n",
       "      <td>0.080744</td>\n",
       "      <td>0.085693</td>\n",
       "      <td>0.154977</td>\n",
       "      <td>0.102501</td>\n",
       "      <td>...</td>\n",
       "      <td>-0.042332</td>\n",
       "      <td>0.161661</td>\n",
       "      <td>0.121229</td>\n",
       "      <td>-0.026633</td>\n",
       "      <td>0.212834</td>\n",
       "      <td>1.000000</td>\n",
       "      <td>0.254488</td>\n",
       "      <td>0.423784</td>\n",
       "      <td>0.593531</td>\n",
       "      <td>0.418498</td>\n",
       "    </tr>\n",
       "    <tr>\n",
       "      <th>bounce_c3_t1</th>\n",
       "      <td>0.077640</td>\n",
       "      <td>0.146241</td>\n",
       "      <td>0.126196</td>\n",
       "      <td>0.090472</td>\n",
       "      <td>0.084685</td>\n",
       "      <td>0.134974</td>\n",
       "      <td>0.130523</td>\n",
       "      <td>0.086829</td>\n",
       "      <td>0.225846</td>\n",
       "      <td>0.140966</td>\n",
       "      <td>...</td>\n",
       "      <td>0.133368</td>\n",
       "      <td>0.187729</td>\n",
       "      <td>0.248437</td>\n",
       "      <td>0.160628</td>\n",
       "      <td>0.516672</td>\n",
       "      <td>0.254488</td>\n",
       "      <td>1.000000</td>\n",
       "      <td>0.256329</td>\n",
       "      <td>0.419044</td>\n",
       "      <td>0.552975</td>\n",
       "    </tr>\n",
       "    <tr>\n",
       "      <th>bounce_c1_t2</th>\n",
       "      <td>0.104671</td>\n",
       "      <td>0.166676</td>\n",
       "      <td>0.065683</td>\n",
       "      <td>0.069969</td>\n",
       "      <td>0.064657</td>\n",
       "      <td>0.166676</td>\n",
       "      <td>0.073858</td>\n",
       "      <td>0.080890</td>\n",
       "      <td>0.199632</td>\n",
       "      <td>0.087784</td>\n",
       "      <td>...</td>\n",
       "      <td>-0.041432</td>\n",
       "      <td>0.075855</td>\n",
       "      <td>0.109119</td>\n",
       "      <td>-0.011519</td>\n",
       "      <td>0.572691</td>\n",
       "      <td>0.423784</td>\n",
       "      <td>0.256329</td>\n",
       "      <td>1.000000</td>\n",
       "      <td>0.190390</td>\n",
       "      <td>0.564128</td>\n",
       "    </tr>\n",
       "    <tr>\n",
       "      <th>bounce_c2_t2</th>\n",
       "      <td>0.092869</td>\n",
       "      <td>0.113446</td>\n",
       "      <td>0.130539</td>\n",
       "      <td>0.084492</td>\n",
       "      <td>0.086507</td>\n",
       "      <td>0.113446</td>\n",
       "      <td>0.127452</td>\n",
       "      <td>0.079896</td>\n",
       "      <td>0.158775</td>\n",
       "      <td>0.135969</td>\n",
       "      <td>...</td>\n",
       "      <td>0.080782</td>\n",
       "      <td>0.186344</td>\n",
       "      <td>0.182715</td>\n",
       "      <td>0.094875</td>\n",
       "      <td>0.412465</td>\n",
       "      <td>0.593531</td>\n",
       "      <td>0.419044</td>\n",
       "      <td>0.190390</td>\n",
       "      <td>1.000000</td>\n",
       "      <td>0.268502</td>\n",
       "    </tr>\n",
       "    <tr>\n",
       "      <th>bounce_c3_t2</th>\n",
       "      <td>0.089568</td>\n",
       "      <td>0.145829</td>\n",
       "      <td>0.079336</td>\n",
       "      <td>0.104883</td>\n",
       "      <td>0.065808</td>\n",
       "      <td>0.123924</td>\n",
       "      <td>0.078267</td>\n",
       "      <td>0.125972</td>\n",
       "      <td>0.210175</td>\n",
       "      <td>0.083054</td>\n",
       "      <td>...</td>\n",
       "      <td>0.077800</td>\n",
       "      <td>0.177379</td>\n",
       "      <td>0.245169</td>\n",
       "      <td>0.088322</td>\n",
       "      <td>0.386908</td>\n",
       "      <td>0.418498</td>\n",
       "      <td>0.552975</td>\n",
       "      <td>0.564128</td>\n",
       "      <td>0.268502</td>\n",
       "      <td>1.000000</td>\n",
       "    </tr>\n",
       "  </tbody>\n",
       "</table>\n",
       "<p>115 rows × 115 columns</p>\n",
       "</div>"
      ],
      "text/plain": [
       "              run_c1_t1  run_c2_t1  run_c3_t1  run_c4_t1  run_c1_t2  \\\n",
       "run_c1_t1      1.000000   0.433636   0.226471   0.375544   0.815704   \n",
       "run_c2_t1      0.433636   1.000000   0.344382   0.540321   0.409466   \n",
       "run_c3_t1      0.226471   0.344382   1.000000   0.327448   0.215765   \n",
       "run_c4_t1      0.375544   0.540321   0.327448   1.000000   0.402583   \n",
       "run_c1_t2      0.815704   0.409466   0.215765   0.402583   1.000000   \n",
       "...                 ...        ...        ...        ...        ...   \n",
       "bounce_c2_t1   0.086058   0.111755   0.086711   0.102020   0.075484   \n",
       "bounce_c3_t1   0.077640   0.146241   0.126196   0.090472   0.084685   \n",
       "bounce_c1_t2   0.104671   0.166676   0.065683   0.069969   0.064657   \n",
       "bounce_c2_t2   0.092869   0.113446   0.130539   0.084492   0.086507   \n",
       "bounce_c3_t2   0.089568   0.145829   0.079336   0.104883   0.065808   \n",
       "\n",
       "              run_c2_t2  run_c3_t2  run_c4_t2  skip_c1_t1  skip_c2_t1  ...  \\\n",
       "run_c1_t1      0.403842   0.248199   0.389420    0.159942    0.121107  ...   \n",
       "run_c2_t1      0.921656   0.370568   0.554566    0.227900    0.066740  ...   \n",
       "run_c3_t1      0.344382   0.913985   0.320239    0.118492    0.033320  ...   \n",
       "run_c4_t1      0.504489   0.330729   0.887412    0.150016    0.048687  ...   \n",
       "run_c1_t2      0.409466   0.237243   0.427462    0.193653    0.125109  ...   \n",
       "...                 ...        ...        ...         ...         ...  ...   \n",
       "bounce_c2_t1   0.122571   0.080744   0.085693    0.154977    0.102501  ...   \n",
       "bounce_c3_t1   0.134974   0.130523   0.086829    0.225846    0.140966  ...   \n",
       "bounce_c1_t2   0.166676   0.073858   0.080890    0.199632    0.087784  ...   \n",
       "bounce_c2_t2   0.113446   0.127452   0.079896    0.158775    0.135969  ...   \n",
       "bounce_c3_t2   0.123924   0.078267   0.125972    0.210175    0.083054  ...   \n",
       "\n",
       "              1hs_c1_t2  1hs_c2_t2  1hs_c3_t2  1hs_c4_t2  bounce_c1_t1  \\\n",
       "run_c1_t1      0.041048   0.082967   0.044732   0.063757      0.121151   \n",
       "run_c2_t1      0.050599   0.056367   0.026181   0.068192      0.232079   \n",
       "run_c3_t1      0.141285   0.133505   0.106737   0.119899      0.125287   \n",
       "run_c4_t1      0.009163   0.050453  -0.007863   0.013170      0.150540   \n",
       "run_c1_t2      0.032846   0.081907   0.039961   0.062942      0.127100   \n",
       "...                 ...        ...        ...        ...           ...   \n",
       "bounce_c2_t1  -0.042332   0.161661   0.121229  -0.026633      0.212834   \n",
       "bounce_c3_t1   0.133368   0.187729   0.248437   0.160628      0.516672   \n",
       "bounce_c1_t2  -0.041432   0.075855   0.109119  -0.011519      0.572691   \n",
       "bounce_c2_t2   0.080782   0.186344   0.182715   0.094875      0.412465   \n",
       "bounce_c3_t2   0.077800   0.177379   0.245169   0.088322      0.386908   \n",
       "\n",
       "              bounce_c2_t1  bounce_c3_t1  bounce_c1_t2  bounce_c2_t2  \\\n",
       "run_c1_t1         0.086058      0.077640      0.104671      0.092869   \n",
       "run_c2_t1         0.111755      0.146241      0.166676      0.113446   \n",
       "run_c3_t1         0.086711      0.126196      0.065683      0.130539   \n",
       "run_c4_t1         0.102020      0.090472      0.069969      0.084492   \n",
       "run_c1_t2         0.075484      0.084685      0.064657      0.086507   \n",
       "...                    ...           ...           ...           ...   \n",
       "bounce_c2_t1      1.000000      0.254488      0.423784      0.593531   \n",
       "bounce_c3_t1      0.254488      1.000000      0.256329      0.419044   \n",
       "bounce_c1_t2      0.423784      0.256329      1.000000      0.190390   \n",
       "bounce_c2_t2      0.593531      0.419044      0.190390      1.000000   \n",
       "bounce_c3_t2      0.418498      0.552975      0.564128      0.268502   \n",
       "\n",
       "              bounce_c3_t2  \n",
       "run_c1_t1         0.089568  \n",
       "run_c2_t1         0.145829  \n",
       "run_c3_t1         0.079336  \n",
       "run_c4_t1         0.104883  \n",
       "run_c1_t2         0.065808  \n",
       "...                    ...  \n",
       "bounce_c2_t1      0.418498  \n",
       "bounce_c3_t1      0.552975  \n",
       "bounce_c1_t2      0.564128  \n",
       "bounce_c2_t2      0.268502  \n",
       "bounce_c3_t2      1.000000  \n",
       "\n",
       "[115 rows x 115 columns]"
      ]
     },
     "execution_count": 7,
     "metadata": {},
     "output_type": "execute_result"
    }
   ],
   "source": [
    "female_matrix = pd.read_pickle('female_matrix.pickle')\n",
    "\n",
    "female_matrix"
   ]
  },
  {
   "cell_type": "code",
   "execution_count": 8,
   "id": "8d988ecb",
   "metadata": {},
   "outputs": [],
   "source": [
    "female_matrix = female_matrix.mask(female_matrix < 0.7).to_csv('greater_than_seventy\\emale_gt7.csv')"
   ]
  },
  {
   "cell_type": "code",
   "execution_count": 9,
   "id": "8e646d80",
   "metadata": {},
   "outputs": [],
   "source": [
    "age5_matrix = pd.read_pickle('age5_matrix.pickle')"
   ]
  },
  {
   "cell_type": "code",
   "execution_count": 10,
   "id": "cb8edc95",
   "metadata": {},
   "outputs": [],
   "source": [
    "age5_matrix = age5_matrix.mask(age5_matrix < 0.7).to_csv('greater_than_seventy\\ge5_gt7.csv')"
   ]
  },
  {
   "cell_type": "code",
   "execution_count": 11,
   "id": "86484acd",
   "metadata": {},
   "outputs": [],
   "source": [
    "age5_male_matrix = pd.read_pickle('age5_male_matrix.pickle')"
   ]
  },
  {
   "cell_type": "code",
   "execution_count": 12,
   "id": "db793b29",
   "metadata": {},
   "outputs": [],
   "source": [
    "age5_male_matrix = age5_male_matrix.mask(age5_male_matrix < 0.7).to_csv('greater_than_seventy\\ge5_m_gt7.csv')"
   ]
  },
  {
   "cell_type": "code",
   "execution_count": 13,
   "id": "b57d7d63",
   "metadata": {},
   "outputs": [],
   "source": [
    "age5_female_matrix = pd.read_pickle('age5_female_matrix.pickle')"
   ]
  },
  {
   "cell_type": "code",
   "execution_count": 14,
   "id": "975df81f",
   "metadata": {},
   "outputs": [],
   "source": [
    "age5_female_matrix = age5_female_matrix.mask(age5_female_matrix < 0.7).to_csv('greater_than_seventy\\ge5_f_gt7.csv')"
   ]
  },
  {
   "cell_type": "code",
   "execution_count": 15,
   "id": "5ffaaf42",
   "metadata": {},
   "outputs": [],
   "source": [
    "age6_matrix = pd.read_pickle('age6_matrix.pickle')"
   ]
  },
  {
   "cell_type": "code",
   "execution_count": 16,
   "id": "b0273ee2",
   "metadata": {},
   "outputs": [],
   "source": [
    "age6_matrix = age6_matrix.mask(age6_matrix < 0.7).to_csv('greater_than_seventy\\ge6_gt7.csv')"
   ]
  },
  {
   "cell_type": "code",
   "execution_count": 17,
   "id": "1edbdc47",
   "metadata": {},
   "outputs": [],
   "source": [
    "age6_male_matrix = pd.read_pickle('age6_male_matrix.pickle')"
   ]
  },
  {
   "cell_type": "code",
   "execution_count": 18,
   "id": "3db01aa9",
   "metadata": {},
   "outputs": [],
   "source": [
    "age6_male_matrix = age6_male_matrix.mask(age6_male_matrix < 0.7).to_csv('greater_than_seventy\\ge6_m_gt7.csv')"
   ]
  },
  {
   "cell_type": "code",
   "execution_count": 19,
   "id": "99ea3e00",
   "metadata": {},
   "outputs": [],
   "source": [
    "age6_female_matrix = pd.read_pickle('age6_female_matrix.pickle')"
   ]
  },
  {
   "cell_type": "code",
   "execution_count": 20,
   "id": "12495557",
   "metadata": {},
   "outputs": [],
   "source": [
    "age6_female_matrix = age6_female_matrix.mask(age6_female_matrix < 0.7).to_csv('greater_than_seventy\\ge6_f_gt7.csv')"
   ]
  },
  {
   "cell_type": "code",
   "execution_count": 21,
   "id": "f49cc0dc",
   "metadata": {},
   "outputs": [],
   "source": [
    "age7_matrix = pd.read_pickle('age7_matrix.pickle')"
   ]
  },
  {
   "cell_type": "code",
   "execution_count": 22,
   "id": "9a6cd776",
   "metadata": {},
   "outputs": [],
   "source": [
    "age7_matrix = age7_matrix.mask(age7_matrix < 0.7).to_csv('greater_than_seventy\\ge7_gt7.csv')"
   ]
  },
  {
   "cell_type": "code",
   "execution_count": 23,
   "id": "fca875c4",
   "metadata": {},
   "outputs": [],
   "source": [
    "age7_male_matrix = pd.read_pickle('age7_male_matrix.pickle')"
   ]
  },
  {
   "cell_type": "code",
   "execution_count": 24,
   "id": "0327b875",
   "metadata": {},
   "outputs": [],
   "source": [
    "age7_male_matrix = age7_male_matrix.mask(age7_male_matrix < 0.7).to_csv('greater_than_seventy\\ge7_m_gt7.csv')"
   ]
  },
  {
   "cell_type": "code",
   "execution_count": 25,
   "id": "22db1777",
   "metadata": {},
   "outputs": [],
   "source": [
    "age7_female_matrix = pd.read_pickle('age7_female_matrix.pickle')"
   ]
  },
  {
   "cell_type": "code",
   "execution_count": 26,
   "id": "d384c04b",
   "metadata": {},
   "outputs": [],
   "source": [
    "age7_female_matrix = age7_female_matrix.mask(age7_female_matrix < 0.7).to_csv('greater_than_seventy\\ge7_f_gt7.csv')"
   ]
  },
  {
   "cell_type": "code",
   "execution_count": 27,
   "id": "54040223",
   "metadata": {},
   "outputs": [],
   "source": [
    "age8_matrix = pd.read_pickle('age8_matrix.pickle')"
   ]
  },
  {
   "cell_type": "code",
   "execution_count": 28,
   "id": "58ebf20a",
   "metadata": {},
   "outputs": [],
   "source": [
    "age8_matrix = age8_matrix.mask(age8_matrix < 0.7).to_csv('greater_than_seventy\\ge8_gt7.csv')"
   ]
  },
  {
   "cell_type": "code",
   "execution_count": 29,
   "id": "dbd4bcd0",
   "metadata": {},
   "outputs": [],
   "source": [
    "age8_male_matrix = pd.read_pickle('age8_male_matrix.pickle')"
   ]
  },
  {
   "cell_type": "code",
   "execution_count": 30,
   "id": "79678fc3",
   "metadata": {},
   "outputs": [],
   "source": [
    "age8_male_matrix = age8_male_matrix.mask(age8_male_matrix < 0.7).to_csv('greater_than_seventy\\ge8_m_gt7.csv')"
   ]
  },
  {
   "cell_type": "code",
   "execution_count": 31,
   "id": "3800baa2",
   "metadata": {},
   "outputs": [],
   "source": [
    "age8_female_matrix = pd.read_pickle('age8_female_matrix.pickle')"
   ]
  },
  {
   "cell_type": "code",
   "execution_count": 32,
   "id": "eb64bb8f",
   "metadata": {},
   "outputs": [],
   "source": [
    "age8_female_matrix = age8_female_matrix.mask(age8_female_matrix < 0.7).to_csv('greater_than_seventy\\ge8_f_gt7.csv')"
   ]
  },
  {
   "cell_type": "code",
   "execution_count": 33,
   "id": "8339668b",
   "metadata": {},
   "outputs": [],
   "source": [
    "age9_matrix = pd.read_pickle('age9_matrix.pickle')"
   ]
  },
  {
   "cell_type": "code",
   "execution_count": 34,
   "id": "01c6bbbc",
   "metadata": {},
   "outputs": [],
   "source": [
    "age9_matrix = age9_matrix.mask(age9_matrix < 0.7).to_csv('greater_than_seventy\\ge9_gt7.csv')"
   ]
  },
  {
   "cell_type": "code",
   "execution_count": 35,
   "id": "0b3fbdce",
   "metadata": {},
   "outputs": [],
   "source": [
    "age9_male_matrix = pd.read_pickle('age9_male_matrix.pickle')"
   ]
  },
  {
   "cell_type": "code",
   "execution_count": 36,
   "id": "95c0cb8c",
   "metadata": {},
   "outputs": [],
   "source": [
    "age9_male_matrix = age9_male_matrix.mask(age9_male_matrix < 0.7).to_csv('greater_than_seventy\\ge9_m_gt7.csv')"
   ]
  },
  {
   "cell_type": "code",
   "execution_count": 37,
   "id": "f8d38efe",
   "metadata": {},
   "outputs": [],
   "source": [
    "age9_female_matrix = pd.read_pickle('age9_female_matrix.pickle')"
   ]
  },
  {
   "cell_type": "code",
   "execution_count": 38,
   "id": "2d4fff32",
   "metadata": {},
   "outputs": [],
   "source": [
    "age9_female_matrix = age9_female_matrix.mask(age9_female_matrix < 0.7).to_csv('greater_than_seventy\\ge9_f_gt7.csv')"
   ]
  },
  {
   "cell_type": "code",
   "execution_count": 39,
   "id": "963e495c",
   "metadata": {},
   "outputs": [],
   "source": [
    "age10_matrix = pd.read_pickle('age10_matrix.pickle')"
   ]
  },
  {
   "cell_type": "code",
   "execution_count": 40,
   "id": "ef980145",
   "metadata": {},
   "outputs": [],
   "source": [
    "age10_matrix = age10_matrix.mask(age10_matrix < 0.7).to_csv('greater_than_seventy\\ge10_gt7.csv')"
   ]
  },
  {
   "cell_type": "code",
   "execution_count": 41,
   "id": "586907f0",
   "metadata": {},
   "outputs": [],
   "source": [
    "age10_male_matrix = pd.read_pickle('age10_male_matrix.pickle')"
   ]
  },
  {
   "cell_type": "code",
   "execution_count": 42,
   "id": "e433306f",
   "metadata": {},
   "outputs": [],
   "source": [
    "age10_male_matrix = age10_male_matrix.mask(age10_male_matrix < 0.7).to_csv('greater_than_seventy\\ge10_m_gt7.csv')"
   ]
  },
  {
   "cell_type": "code",
   "execution_count": 43,
   "id": "9de82ea8",
   "metadata": {},
   "outputs": [],
   "source": [
    "age10_female_matrix = pd.read_pickle('age10_female_matrix.pickle')"
   ]
  },
  {
   "cell_type": "code",
   "execution_count": 44,
   "id": "917051f0",
   "metadata": {},
   "outputs": [],
   "source": [
    "age10_female_matrix = age10_female_matrix.mask(age10_female_matrix < 0.7).to_csv('greater_than_seventy\\ge10_f_gt7.csv')"
   ]
  },
  {
   "cell_type": "code",
   "execution_count": 45,
   "id": "6738bf99",
   "metadata": {},
   "outputs": [],
   "source": [
    "age11_matrix = pd.read_pickle('age11_matrix.pickle')"
   ]
  },
  {
   "cell_type": "code",
   "execution_count": 46,
   "id": "84bdefdf",
   "metadata": {},
   "outputs": [],
   "source": [
    "age11_matrix = age11_matrix.mask(age11_matrix < 0.7).to_csv('greater_than_seventy\\ge11_gt7.csv')"
   ]
  },
  {
   "cell_type": "code",
   "execution_count": 47,
   "id": "a892ad52",
   "metadata": {},
   "outputs": [],
   "source": [
    "age11_male_matrix = pd.read_pickle('age11_male_matrix.pickle')"
   ]
  },
  {
   "cell_type": "code",
   "execution_count": 48,
   "id": "a21476c2",
   "metadata": {},
   "outputs": [],
   "source": [
    "age11_male_matrix = age11_male_matrix.mask(age11_male_matrix < 0.7).to_csv('greater_than_seventy\\ge11_m_gt7.csv')"
   ]
  },
  {
   "cell_type": "code",
   "execution_count": 49,
   "id": "c7a0b8a2",
   "metadata": {},
   "outputs": [],
   "source": [
    "age11_female_matrix = pd.read_pickle('age11_female_matrix.pickle')"
   ]
  },
  {
   "cell_type": "code",
   "execution_count": 50,
   "id": "7d109ea5",
   "metadata": {},
   "outputs": [],
   "source": [
    "age11_female_matrix = age11_female_matrix.mask(age11_female_matrix < 0.7).to_csv('greater_than_seventy\\ge11_f_gt7.csv')"
   ]
  },
  {
   "cell_type": "code",
   "execution_count": 51,
   "id": "191351c5",
   "metadata": {},
   "outputs": [],
   "source": [
    "age12_matrix = pd.read_pickle('age12_matrix.pickle')"
   ]
  },
  {
   "cell_type": "code",
   "execution_count": 52,
   "id": "2d390632",
   "metadata": {},
   "outputs": [],
   "source": [
    "age12_matrix = age12_matrix.mask(age12_matrix < 0.7).to_csv('greater_than_seventy\\ge12_gt7.csv')"
   ]
  },
  {
   "cell_type": "code",
   "execution_count": 53,
   "id": "dd7016a6",
   "metadata": {},
   "outputs": [],
   "source": [
    "age12_male_matrix = pd.read_pickle('age12_male_matrix.pickle')"
   ]
  },
  {
   "cell_type": "code",
   "execution_count": 54,
   "id": "fd537ee6",
   "metadata": {},
   "outputs": [],
   "source": [
    "age12_male_matrix = age12_male_matrix.mask(age12_male_matrix < 0.7).to_csv('greater_than_seventy\\ge12_m_gt7.csv')"
   ]
  },
  {
   "cell_type": "code",
   "execution_count": 55,
   "id": "9fe806b9",
   "metadata": {},
   "outputs": [],
   "source": [
    "age12_female_matrix = pd.read_pickle('age12_female_matrix.pickle')"
   ]
  },
  {
   "cell_type": "code",
   "execution_count": 56,
   "id": "2fea412d",
   "metadata": {},
   "outputs": [],
   "source": [
    "age12_female_matrix = age12_female_matrix.mask(age12_female_matrix < 0.7).to_csv('greater_than_seventy\\ge12_f_gt7.csv')"
   ]
  },
  {
   "cell_type": "code",
   "execution_count": 57,
   "id": "a89cd498",
   "metadata": {},
   "outputs": [],
   "source": [
    "age13_matrix = pd.read_pickle('age13_matrix.pickle')"
   ]
  },
  {
   "cell_type": "code",
   "execution_count": 58,
   "id": "c646080a",
   "metadata": {},
   "outputs": [],
   "source": [
    "age13_matrix = age13_matrix.mask(age13_matrix < 0.7).to_csv('greater_than_seventy\\ge13_gt7.csv')"
   ]
  },
  {
   "cell_type": "code",
   "execution_count": 59,
   "id": "776a1713",
   "metadata": {},
   "outputs": [],
   "source": [
    "age13_male_matrix = pd.read_pickle('age13_male_matrix.pickle')"
   ]
  },
  {
   "cell_type": "code",
   "execution_count": 60,
   "id": "076156a6",
   "metadata": {},
   "outputs": [],
   "source": [
    "age13_male_matrix = age13_male_matrix.mask(age13_male_matrix < 0.7).to_csv('greater_than_seventy\\ge13_m_gt7.csv')"
   ]
  },
  {
   "cell_type": "code",
   "execution_count": 61,
   "id": "a35cffd8",
   "metadata": {},
   "outputs": [],
   "source": [
    "age13_female_matrix = pd.read_pickle('age13_female_matrix.pickle')"
   ]
  },
  {
   "cell_type": "code",
   "execution_count": 62,
   "id": "a8ea46dc",
   "metadata": {},
   "outputs": [],
   "source": [
    "age13_female_matrix = age13_female_matrix.mask(age13_female_matrix < 0.7).to_csv('greater_than_seventy\\ge13_f_gt7.csv')"
   ]
  },
  {
   "cell_type": "code",
   "execution_count": 63,
   "id": "5519d3dd",
   "metadata": {},
   "outputs": [],
   "source": [
    "age14_matrix = pd.read_pickle('age14_matrix.pickle')"
   ]
  },
  {
   "cell_type": "code",
   "execution_count": 64,
   "id": "505cd598",
   "metadata": {},
   "outputs": [],
   "source": [
    "age14_matrix = age14_matrix.mask(age14_matrix < 0.7).to_csv('greater_than_seventy\\ge14_gt7.csv')"
   ]
  },
  {
   "cell_type": "code",
   "execution_count": 65,
   "id": "b37e2bb2",
   "metadata": {},
   "outputs": [],
   "source": [
    "age14_male_matrix = pd.read_pickle('age14_male_matrix.pickle')"
   ]
  },
  {
   "cell_type": "code",
   "execution_count": 66,
   "id": "562d3c5a",
   "metadata": {},
   "outputs": [],
   "source": [
    "age14_male_matrix = age14_male_matrix.mask(age14_male_matrix < 0.7).to_csv('greater_than_seventy\\ge14_m_gt7.csv')"
   ]
  },
  {
   "cell_type": "code",
   "execution_count": 67,
   "id": "155f6769",
   "metadata": {},
   "outputs": [],
   "source": [
    "age14_female_matrix = pd.read_pickle('age14_female_matrix.pickle')"
   ]
  },
  {
   "cell_type": "code",
   "execution_count": 69,
   "id": "48ba068a",
   "metadata": {},
   "outputs": [
    {
     "ename": "AttributeError",
     "evalue": "'NoneType' object has no attribute 'mask'",
     "output_type": "error",
     "traceback": [
      "\u001b[1;31m---------------------------------------------------------------------------\u001b[0m",
      "\u001b[1;31mAttributeError\u001b[0m                            Traceback (most recent call last)",
      "Input \u001b[1;32mIn [69]\u001b[0m, in \u001b[0;36m<cell line: 1>\u001b[1;34m()\u001b[0m\n\u001b[1;32m----> 1\u001b[0m age14_female_matrix \u001b[38;5;241m=\u001b[39m \u001b[43mage14_female_matrix\u001b[49m\u001b[38;5;241;43m.\u001b[39;49m\u001b[43mmask\u001b[49m(age14_female_matrix \u001b[38;5;241m<\u001b[39m \u001b[38;5;241m0.7\u001b[39m)\u001b[38;5;241m.\u001b[39mto_csv(\u001b[38;5;124m'\u001b[39m\u001b[38;5;124mgreater_than_seventy\u001b[39m\u001b[38;5;124m\\\u001b[39m\u001b[38;5;124mge14_f_gt7.csv\u001b[39m\u001b[38;5;124m'\u001b[39m)\n",
      "\u001b[1;31mAttributeError\u001b[0m: 'NoneType' object has no attribute 'mask'"
     ]
    }
   ],
   "source": [
    "age14_female_matrix = age14_female_matrix.mask(age14_female_matrix < 0.7).to_csv('greater_than_seventy\\ge14_f_gt7.csv')"
   ]
  }
 ],
 "metadata": {
  "kernelspec": {
   "display_name": "Python 3 (ipykernel)",
   "language": "python",
   "name": "python3"
  },
  "language_info": {
   "codemirror_mode": {
    "name": "ipython",
    "version": 3
   },
   "file_extension": ".py",
   "mimetype": "text/x-python",
   "name": "python",
   "nbconvert_exporter": "python",
   "pygments_lexer": "ipython3",
   "version": "3.8.13"
  }
 },
 "nbformat": 4,
 "nbformat_minor": 5
}
